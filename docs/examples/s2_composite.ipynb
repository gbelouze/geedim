{
 "cells": [
  {
   "cell_type": "markdown",
   "metadata": {},
   "source": [
    "## Sentinel-2 cloud/shadow-free composite\n",
    "\n",
    "This example creates and downloads a large cloud/shadow free composite from a year of Sentinel-2 SR imagery.  The area of interest is over Accra, Ghana.  It demonstrates approaches for staying within Earth Engine computational and memory limits, and for compositing heavily clouded areas. \n",
    "\n",
    "CLI commands equivalent to the API code snippets are given in the comments where possible.\n",
    "\n",
    "### Setup\n",
    "\n",
    "`geemap` is required to run the notebook.  You can uncomment the cell below to install it, if it isn't installed already."
   ]
  },
  {
   "cell_type": "code",
   "execution_count": 1,
   "metadata": {},
   "outputs": [],
   "source": [
    "# geemap should be installed if it isn't already.\n",
    "# import sys\n",
    "# if 'conda' in sys.prefix:\n",
    "#     # install into the conda environment the notebook is being run from\n",
    "#     !conda install --yes --prefix {sys.prefix} -c conda-forge geemap\n",
    "# else:\n",
    "#     # install into the python environment the notebook is being run from\n",
    "#     !{sys.executable} -m pip install geemap"
   ]
  },
  {
   "cell_type": "code",
   "execution_count": 2,
   "metadata": {},
   "outputs": [],
   "source": [
    "import logging\n",
    "import ee\n",
    "import geedim as gd\n",
    "import geemap.foliumap as geemap\n",
    "\n",
    "# initialise earth engine with the high-volume endpoint\n",
    "gd.Initialize()"
   ]
  },
  {
   "cell_type": "markdown",
   "metadata": {},
   "source": [
    "### Create and search a Sentinel-2 SR collection\n",
    "\n",
    "In this step we search for images to composite, over the area and time period of interest.  \n",
    "\n",
    "Searching and compositing Sentinel-2 collections over large areas or time spans can be time-consuming, in part due to the resolution of the imagery; but also due to the computational burden of the `geedim` cloud/shadow masking algorithms.  To reduce the number of images requiring cloud/shadow masking in the search, we specify a `custom_filter` that places an upper limit on the already existing `CLOUDY_PIXEL_PERCENTAGE` [image granule property](https://developers.google.com/earth-engine/datasets/catalog/COPERNICUS_S2_SR_HARMONIZED#image-properties).  This `custom_filter` is fast to apply and helps speed up the search by reducing the number of images requiring `geedim` cloud/shadow masking.  It is also recommended to keep the search region and time span to a reasonable minimum.\n",
    "\n",
    "While the `custom_filter` applies to properties of the entire image granule, the `fill_portion` and `cloudless_portion` filters apply to `geedim` calculated portions of the search region.   Here they are used to limit the search results to relatively large and cloud/shadow-free image portions.  \n",
    "\n",
    "We specify an aggresive [cloud probability threshold](../api.rst#MaskedImage) of 40% (`prob=40`), and a large [cloud/shadow dilation distance](../api.rst#MaskedImage) of 100m (`buffer=100`), to avoid the inclusion of cloudy pixels in the resulting images.  "
   ]
  },
  {
   "cell_type": "code",
   "execution_count": 3,
   "metadata": {},
   "outputs": [
    {
     "name": "stdout",
     "output_type": "stream",
     "text": [
      "Found 26 images.\n",
      "Image property descriptions:\n",
      "\n",
      "ABBREV     NAME                             DESCRIPTION\n",
      "---------  -------------------------------  ----------------------------------------------\n",
      "ID         system:id                        Earth Engine image id\n",
      "DATE       system:time_start                Image capture date/time (UTC)\n",
      "FILL       FILL_PORTION                     Portion of region pixels that are valid (%)\n",
      "CLOUDLESS  CLOUDLESS_PORTION                Portion of filled pixels that are cloud/shadow\n",
      "                                            free (%)\n",
      "RADQ       RADIOMETRIC_QUALITY              Radiometric quality check\n",
      "GEOMQ      GEOMETRIC_QUALITY                Geometric quality check\n",
      "SAA        MEAN_SOLAR_AZIMUTH_ANGLE         Solar azimuth angle (deg)\n",
      "SZA        MEAN_SOLAR_ZENITH_ANGLE          Solar zenith angle (deg)\n",
      "VAA        MEAN_INCIDENCE_AZIMUTH_ANGLE_B1  View (B1) azimuth angle (deg)\n",
      "VZA        MEAN_INCIDENCE_ZENITH_ANGLE_B1   View (B1) zenith angle (deg)\n",
      "\n",
      "Search Results:\n",
      "\n",
      "ID                                                                 DATE              FILL CLOUDLESS RADQ   GEOMQ     SAA   SZA    VAA   VZA\n",
      "------------------------------------------------------------------ ---------------- ----- --------- ------ ------ ------ ----- ------ -----\n",
      "COPERNICUS/S2_SR_HARMONIZED/20190109T101409_20190109T102253_T30NYM 2019-01-09 10:29 41.15     85.23 PASSED PASSED 139.50 37.20 110.79 11.21\n",
      "COPERNICUS/S2_SR_HARMONIZED/20190122T102329_20190122T103839_T30NZM 2019-01-22 10:39 35.83     98.36 PASSED PASSED 139.22 33.99 291.77 11.04\n",
      "COPERNICUS/S2_SR_HARMONIZED/20190122T102329_20190122T103839_T30NYM 2019-01-22 10:39 44.84     96.52 PASSED PASSED 138.15 34.57 284.86  7.01\n",
      "COPERNICUS/S2_SR_HARMONIZED/20190129T101259_20190129T102648_T30NZM 2019-01-29 10:29 78.98     94.86 PASSED PASSED 133.66 34.76 103.87  7.45\n",
      "COPERNICUS/S2_SR_HARMONIZED/20190129T101259_20190129T102648_T30NYM 2019-01-29 10:29 40.75     86.70 PASSED PASSED 132.71 35.41 110.77 11.22\n",
      "COPERNICUS/S2_SR_HARMONIZED/20190203T101221_20190203T102328_T30NZM 2019-02-03 10:29 78.98     98.36 PASSED PASSED 131.54 34.00 102.95  7.46\n",
      "COPERNICUS/S2_SR_HARMONIZED/20190203T101221_20190203T102328_T30NYM 2019-02-03 10:29 40.12     97.48 PASSED PASSED 130.60 34.67 110.22 11.22\n",
      "COPERNICUS/S2_SR_HARMONIZED/20190211T102149_20190211T103444_T30NZM 2019-02-11 10:39 36.62     90.95 PASSED PASSED 130.61 30.63 291.60 11.03\n",
      "COPERNICUS/S2_SR_HARMONIZED/20190211T102149_20190211T103444_T30NYM 2019-02-11 10:39 44.84     95.34 PASSED PASSED 129.57 31.32 284.89  7.01\n",
      "COPERNICUS/S2_SR_HARMONIZED/20190221T102039_20190221T103744_T30NZM 2019-02-21 10:39 37.43     96.71 PASSED PASSED 125.14 28.46 291.63 11.03\n",
      "COPERNICUS/S2_SR_HARMONIZED/20190221T102039_20190221T103744_T30NYM 2019-02-21 10:39 44.84     99.21 PASSED PASSED 124.14 29.19 284.91  6.97\n",
      "COPERNICUS/S2_SR_HARMONIZED/20190226T102021_20190226T102750_T30NZM 2019-02-26 10:39 37.51     99.97 PASSED PASSED 122.02 27.33 292.19 11.05\n",
      "COPERNICUS/S2_SR_HARMONIZED/20190226T102021_20190226T102750_T30NYM 2019-02-26 10:39 44.84     99.98 PASSED PASSED 121.05 28.09 285.84  6.97\n",
      "COPERNICUS/S2_SR_HARMONIZED/20190303T102019_20190303T103501_T30NZM 2019-03-03 10:39 38.43     94.30 PASSED PASSED 118.64 26.18 291.45 11.01\n",
      "COPERNICUS/S2_SR_HARMONIZED/20190305T101021_20190305T101942_T30NZM 2019-03-05 10:29 78.98     97.65 PASSED PASSED 114.79 27.96 102.84  7.49\n",
      "COPERNICUS/S2_SR_HARMONIZED/20190305T101021_20190305T101942_T30NYM 2019-03-05 10:29 38.75     91.50 PASSED PASSED 114.03 28.77 110.18 11.24\n",
      "COPERNICUS/S2_SR_HARMONIZED/20190422T102029_20190422T102825_T30NZM 2019-04-22 10:39 34.57     84.97 PASSED PASSED  70.43 20.33 291.93 11.07\n",
      "COPERNICUS/S2_SR_HARMONIZED/20190422T102029_20190422T102825_T30NYM 2019-04-22 10:39 44.82     82.72 PASSED PASSED  71.12 21.16 284.90  7.05\n",
      "COPERNICUS/S2_SR_HARMONIZED/20190502T102029_20190502T103323_T30NYM 2019-05-02 10:39 44.84     92.48 PASSED PASSED  62.60 21.88 285.00  7.07\n",
      "COPERNICUS/S2_SR_HARMONIZED/20191029T102039_20191029T103707_T30NZM 2019-10-29 10:39 37.60     92.46 PASSED PASSED 140.78 24.88 291.61 11.05\n",
      "COPERNICUS/S2_SR_HARMONIZED/20191029T102039_20191029T103707_T30NYM 2019-10-29 10:39 44.84     94.07 PASSED PASSED 139.25 25.45 284.87  6.98\n",
      "COPERNICUS/S2_SR_HARMONIZED/20191203T102401_20191203T103859_T30NZM 2019-12-03 10:39 36.76     87.69 PASSED PASSED 149.20 32.68 292.18 11.04\n",
      "COPERNICUS/S2_SR_HARMONIZED/20191203T102401_20191203T103859_T30NYM 2019-12-03 10:39 44.84     85.52 PASSED PASSED 147.94 33.15 285.92  6.99\n",
      "COPERNICUS/S2_SR_HARMONIZED/20191223T102431_20191223T103653_T30NYM 2019-12-23 10:39 44.84     76.97 PASSED PASSED 146.26 35.50 285.85  6.93\n",
      "COPERNICUS/S2_SR_HARMONIZED/20191225T101329_20191225T102600_T30NZM 2019-12-25 10:29 78.98     99.93 PASSED PASSED 143.96 36.51 103.79  7.49\n",
      "COPERNICUS/S2_SR_HARMONIZED/20191225T101329_20191225T102600_T30NYM 2019-12-25 10:29 39.09     99.83 PASSED PASSED 142.92 37.05 110.76 11.25\n"
     ]
    }
   ],
   "source": [
    "# geojson search polygon\n",
    "region = {\n",
    "    'type': 'Polygon', 'coordinates': [[\n",
    "    [-0.37, 5.75], [-0.37, 5.5], [0.0, 5.5], [0.0, 5.75], [-0.37, 5.75]\n",
    "  ]],\n",
    "}\n",
    "\n",
    "# create and search the Sentinel-2 TOA collection\n",
    "coll = gd.MaskedCollection.from_name('COPERNICUS/S2_SR_HARMONIZED')\n",
    "filt_coll = coll.search(\n",
    "    start_date='2019-01-01', end_date='2020-01-01', region=region, \n",
    "    cloudless_portion=75, fill_portion=30, \n",
    "    custom_filter='CLOUDY_PIXEL_PERCENTAGE<25', prob=40, buffer=100,\n",
    ")\n",
    "\n",
    "# print the search results\n",
    "print(f'Found {len(filt_coll.properties)} images.')\n",
    "print(f'Image property descriptions:\\n\\n{filt_coll.schema_table}\\n')\n",
    "print(f'Search Results:\\n\\n{filt_coll.properties_table}')\n",
    "\n",
    "# !geedim config --prob 40 --buffer 100 search -c s2-sr-hm -s 2019-01-01 -e 2020-01-01 --bbox -0.37 5.5 -0.0 5.75 -cf \"CLOUDY_PIXEL_PERCENTAGE<25\" -cp 75 -fp 30"
   ]
  },
  {
   "cell_type": "markdown",
   "metadata": {},
   "source": [
    "#### Create composite image\n",
    "\n",
    "Next we create a [*medoid*](../api.rst#compositemethod) composite image from the search result images.  Again we specify a [cloud probability threshold](../api.rst#MaskedImage) of 40% (`prob=40`), and a [cloud/shadow dilation distance](../api.rst#MaskedImage) of 100m (`buffer=100`), to aggressively mask cloudy pixels.  These parameters result in some false positive cloud/shadow detections (i.e. mask some valid pixels), but with numerous component images covering the same area, there are enough valid pixels to produce a full coverage composite.\n",
    "\n",
    "Of the [available compositing algorithms](../api.rst#compositemethod), the *medoid* method is the most memory and computation intensive.  Computation scales roughly quadratically with the number of component images, so it is important to keep those to a necessary minimum.  The number of images returned by the search (i.e. 26) is low enough to produce a reasonably fast composite in this case.  Limiting the components to mostly cloud/shadow-free images, and aggressively masking these, helps improve the composite quality. "
   ]
  },
  {
   "cell_type": "code",
   "execution_count": 4,
   "metadata": {},
   "outputs": [],
   "source": [
    "medoid_im = filt_coll.composite('medoid', prob=40, buffer=100)"
   ]
  },
  {
   "cell_type": "markdown",
   "metadata": {},
   "source": [
    "### Visualise component and composite images\n",
    "\n",
    "Now we use `geemap` to display the first 4 component images, their cloud/shadow masks, and the *medoid* composite.  You can use the layer button in the top right hand corner to turn on/off the image layers.  The composite will take a few minutes to load.  \n",
    " \n",
    "<div class=\"alert alert-info\">\n",
    "\n",
    "Note\n",
    "\n",
    "You need to download and run the notebook to view the images.\n",
    "\n",
    "</div>"
   ]
  },
  {
   "cell_type": "code",
   "execution_count": 5,
   "metadata": {},
   "outputs": [
    {
     "data": {
      "text/html": [
       "<div style=\"width:100%;\"><div style=\"position:relative;width:100%;height:0;padding-bottom:60%;\"><span style=\"color:#565656\">Make this Notebook Trusted to load map: File -> Trust Notebook</span><iframe srcdoc=\"&lt;!DOCTYPE html&gt;\n",
       "&lt;head&gt;    \n",
       "    &lt;meta http-equiv=&quot;content-type&quot; content=&quot;text/html; charset=UTF-8&quot; /&gt;\n",
       "    \n",
       "        &lt;script&gt;\n",
       "            L_NO_TOUCH = false;\n",
       "            L_DISABLE_3D = false;\n",
       "        &lt;/script&gt;\n",
       "    \n",
       "    &lt;style&gt;html, body {width: 100%;height: 100%;margin: 0;padding: 0;}&lt;/style&gt;\n",
       "    &lt;style&gt;#map {position:absolute;top:0;bottom:0;right:0;left:0;}&lt;/style&gt;\n",
       "    &lt;script src=&quot;https://cdn.jsdelivr.net/npm/leaflet@1.6.0/dist/leaflet.js&quot;&gt;&lt;/script&gt;\n",
       "    &lt;script src=&quot;https://code.jquery.com/jquery-1.12.4.min.js&quot;&gt;&lt;/script&gt;\n",
       "    &lt;script src=&quot;https://maxcdn.bootstrapcdn.com/bootstrap/3.2.0/js/bootstrap.min.js&quot;&gt;&lt;/script&gt;\n",
       "    &lt;script src=&quot;https://cdnjs.cloudflare.com/ajax/libs/Leaflet.awesome-markers/2.0.2/leaflet.awesome-markers.js&quot;&gt;&lt;/script&gt;\n",
       "    &lt;link rel=&quot;stylesheet&quot; href=&quot;https://cdn.jsdelivr.net/npm/leaflet@1.6.0/dist/leaflet.css&quot;/&gt;\n",
       "    &lt;link rel=&quot;stylesheet&quot; href=&quot;https://maxcdn.bootstrapcdn.com/bootstrap/3.2.0/css/bootstrap.min.css&quot;/&gt;\n",
       "    &lt;link rel=&quot;stylesheet&quot; href=&quot;https://maxcdn.bootstrapcdn.com/bootstrap/3.2.0/css/bootstrap-theme.min.css&quot;/&gt;\n",
       "    &lt;link rel=&quot;stylesheet&quot; href=&quot;https://maxcdn.bootstrapcdn.com/font-awesome/4.6.3/css/font-awesome.min.css&quot;/&gt;\n",
       "    &lt;link rel=&quot;stylesheet&quot; href=&quot;https://cdnjs.cloudflare.com/ajax/libs/Leaflet.awesome-markers/2.0.2/leaflet.awesome-markers.css&quot;/&gt;\n",
       "    &lt;link rel=&quot;stylesheet&quot; href=&quot;https://cdn.jsdelivr.net/gh/python-visualization/folium/folium/templates/leaflet.awesome.rotate.min.css&quot;/&gt;\n",
       "    \n",
       "            &lt;meta name=&quot;viewport&quot; content=&quot;width=device-width,\n",
       "                initial-scale=1.0, maximum-scale=1.0, user-scalable=no&quot; /&gt;\n",
       "            &lt;style&gt;\n",
       "                #map_79d9ff63ee55208310c08960bfbb969a {\n",
       "                    position: relative;\n",
       "                    width: 100.0%;\n",
       "                    height: 100.0%;\n",
       "                    left: 0.0%;\n",
       "                    top: 0.0%;\n",
       "                }\n",
       "            &lt;/style&gt;\n",
       "        \n",
       "    &lt;script src=&quot;https://cdnjs.cloudflare.com/ajax/libs/leaflet.fullscreen/1.4.2/Control.FullScreen.min.js&quot;&gt;&lt;/script&gt;\n",
       "    &lt;link rel=&quot;stylesheet&quot; href=&quot;https://cdnjs.cloudflare.com/ajax/libs/leaflet.fullscreen/1.4.2/Control.FullScreen.min.css&quot;/&gt;\n",
       "    &lt;script src=&quot;https://cdnjs.cloudflare.com/ajax/libs/leaflet.draw/1.0.2/leaflet.draw.js&quot;&gt;&lt;/script&gt;\n",
       "    &lt;link rel=&quot;stylesheet&quot; href=&quot;https://cdnjs.cloudflare.com/ajax/libs/leaflet.draw/1.0.2/leaflet.draw.css&quot;/&gt;\n",
       "    &lt;script src=&quot;https://unpkg.com/leaflet-control-geocoder/dist/Control.Geocoder.js&quot;&gt;&lt;/script&gt;\n",
       "    &lt;link rel=&quot;stylesheet&quot; href=&quot;https://unpkg.com/leaflet-control-geocoder/dist/Control.Geocoder.css&quot;/&gt;\n",
       "&lt;/head&gt;\n",
       "&lt;body&gt;    \n",
       "    \n",
       "            &lt;div class=&quot;folium-map&quot; id=&quot;map_79d9ff63ee55208310c08960bfbb969a&quot; &gt;&lt;/div&gt;\n",
       "        \n",
       "&lt;/body&gt;\n",
       "&lt;script&gt;    \n",
       "    \n",
       "            var map_79d9ff63ee55208310c08960bfbb969a = L.map(\n",
       "                &quot;map_79d9ff63ee55208310c08960bfbb969a&quot;,\n",
       "                {\n",
       "                    center: [20.0, 0.0],\n",
       "                    crs: L.CRS.EPSG3857,\n",
       "                    zoom: 2,\n",
       "                    zoomControl: true,\n",
       "                    preferCanvas: false,\n",
       "                    eeInitialize: true,\n",
       "                    addGoogleMap: true,\n",
       "                    pluginLatlngpopup: false,\n",
       "                    pluginFullscreen: true,\n",
       "                    pluginDraw: true,\n",
       "                    DrawExport: false,\n",
       "                    pluginMinimap: false,\n",
       "                    pluginLayercontrol: false,\n",
       "                    locateControl: false,\n",
       "                    searchControl: true,\n",
       "                }\n",
       "            );\n",
       "\n",
       "            \n",
       "\n",
       "        \n",
       "    \n",
       "            var tile_layer_791155a3f926cfcf587e18d7e1a72edc = L.tileLayer(\n",
       "                &quot;https://{s}.tile.openstreetmap.org/{z}/{x}/{y}.png&quot;,\n",
       "                {&quot;attribution&quot;: &quot;Data by \\u0026copy; \\u003ca href=\\&quot;http://openstreetmap.org\\&quot;\\u003eOpenStreetMap\\u003c/a\\u003e, under \\u003ca href=\\&quot;http://www.openstreetmap.org/copyright\\&quot;\\u003eODbL\\u003c/a\\u003e.&quot;, &quot;detectRetina&quot;: false, &quot;maxNativeZoom&quot;: 24, &quot;maxZoom&quot;: 24, &quot;minZoom&quot;: 0, &quot;noWrap&quot;: false, &quot;opacity&quot;: 1, &quot;subdomains&quot;: &quot;abc&quot;, &quot;tms&quot;: false}\n",
       "            ).addTo(map_79d9ff63ee55208310c08960bfbb969a);\n",
       "        \n",
       "    \n",
       "            var tile_layer_1171b95df9d3bd3a30e43c8c5e850095 = L.tileLayer(\n",
       "                &quot;https://mt1.google.com/vt/lyrs=m\\u0026x={x}\\u0026y={y}\\u0026z={z}&quot;,\n",
       "                {&quot;attribution&quot;: &quot;Google&quot;, &quot;detectRetina&quot;: false, &quot;maxNativeZoom&quot;: 22, &quot;maxZoom&quot;: 22, &quot;minZoom&quot;: 0, &quot;noWrap&quot;: false, &quot;opacity&quot;: 1, &quot;subdomains&quot;: &quot;abc&quot;, &quot;tms&quot;: false}\n",
       "            ).addTo(map_79d9ff63ee55208310c08960bfbb969a);\n",
       "        \n",
       "    \n",
       "            L.control.fullscreen(\n",
       "                {&quot;forceSeparateButton&quot;: false, &quot;position&quot;: &quot;topleft&quot;, &quot;title&quot;: &quot;Full Screen&quot;, &quot;titleCancel&quot;: &quot;Exit Full Screen&quot;}\n",
       "            ).addTo(map_79d9ff63ee55208310c08960bfbb969a);\n",
       "        \n",
       "    \n",
       "            var options = {\n",
       "              position: &quot;topleft&quot;,\n",
       "              draw: {},\n",
       "              edit: {},\n",
       "            }\n",
       "            // FeatureGroup is to store editable layers.\n",
       "            var drawnItems = new L.featureGroup().addTo(\n",
       "                map_79d9ff63ee55208310c08960bfbb969a\n",
       "            );\n",
       "            options.edit.featureGroup = drawnItems;\n",
       "            var draw_control_a41294d54bf8e7104145b7a261f42086 = new L.Control.Draw(\n",
       "                options\n",
       "            ).addTo( map_79d9ff63ee55208310c08960bfbb969a );\n",
       "            map_79d9ff63ee55208310c08960bfbb969a.on(L.Draw.Event.CREATED, function(e) {\n",
       "                var layer = e.layer,\n",
       "                    type = e.layerType;\n",
       "                var coords = JSON.stringify(layer.toGeoJSON());\n",
       "                layer.on(&#x27;click&#x27;, function() {\n",
       "                    alert(coords);\n",
       "                    console.log(coords);\n",
       "                });\n",
       "                drawnItems.addLayer(layer);\n",
       "             });\n",
       "            map_79d9ff63ee55208310c08960bfbb969a.on(&#x27;draw:created&#x27;, function(e) {\n",
       "                drawnItems.addLayer(e.layer);\n",
       "            });\n",
       "            \n",
       "        \n",
       "    \n",
       "            L.Control.geocoder(\n",
       "                {&quot;collapsed&quot;: true, &quot;defaultMarkGeocode&quot;: true, &quot;position&quot;: &quot;topleft&quot;}\n",
       "            ).on(&#x27;markgeocode&#x27;, function(e) {\n",
       "                map_79d9ff63ee55208310c08960bfbb969a.setView(e.geocode.center, 11);\n",
       "            }).addTo(map_79d9ff63ee55208310c08960bfbb969a);\n",
       "\n",
       "        \n",
       "    \n",
       "            map_79d9ff63ee55208310c08960bfbb969a.fitBounds(\n",
       "                [[20, 0], [20, 0]],\n",
       "                {&quot;maxZoom&quot;: 2}\n",
       "            );\n",
       "        \n",
       "    \n",
       "            map_79d9ff63ee55208310c08960bfbb969a.fitBounds(\n",
       "                [[5.625020180468233, -0.18499999999965613], [5.625020180468233, -0.18499999999965613]],\n",
       "                {&quot;maxZoom&quot;: 11}\n",
       "            );\n",
       "        \n",
       "    \n",
       "            var tile_layer_354613b95d285fe2090196a5e9e0d16b = L.tileLayer(\n",
       "                &quot;https://earthengine-highvolume.googleapis.com/v1alpha/projects/earthengine-legacy/maps/4f325b54bd7d7fb057adc55cfdf8a41f-2c619e855f04847cf65d375d97e9c361/tiles/{z}/{x}/{y}&quot;,\n",
       "                {&quot;attribution&quot;: &quot;Google Earth Engine&quot;, &quot;detectRetina&quot;: false, &quot;maxNativeZoom&quot;: 24, &quot;maxZoom&quot;: 24, &quot;minZoom&quot;: 0, &quot;noWrap&quot;: false, &quot;opacity&quot;: 1.0, &quot;subdomains&quot;: &quot;abc&quot;, &quot;tms&quot;: false}\n",
       "            ).addTo(map_79d9ff63ee55208310c08960bfbb969a);\n",
       "        \n",
       "    \n",
       "            var tile_layer_99068bb15e63b85f681e043abf184143 = L.tileLayer(\n",
       "                &quot;https://earthengine-highvolume.googleapis.com/v1alpha/projects/earthengine-legacy/maps/a19be66adfd188880e250d8fd9da9efa-f6f7508d3b1c9493702e45bd17bc537b/tiles/{z}/{x}/{y}&quot;,\n",
       "                {&quot;attribution&quot;: &quot;Google Earth Engine&quot;, &quot;detectRetina&quot;: false, &quot;maxNativeZoom&quot;: 24, &quot;maxZoom&quot;: 24, &quot;minZoom&quot;: 0, &quot;noWrap&quot;: false, &quot;opacity&quot;: 1.0, &quot;subdomains&quot;: &quot;abc&quot;, &quot;tms&quot;: false}\n",
       "            ).addTo(map_79d9ff63ee55208310c08960bfbb969a);\n",
       "        \n",
       "    \n",
       "            var tile_layer_d92560d371bc55b4c667c40cc6c2512b = L.tileLayer(\n",
       "                &quot;https://earthengine-highvolume.googleapis.com/v1alpha/projects/earthengine-legacy/maps/f1641fe6409b199704628fbcf83e91b4-70a6b403af8d9585e2d037c5e7e55de4/tiles/{z}/{x}/{y}&quot;,\n",
       "                {&quot;attribution&quot;: &quot;Google Earth Engine&quot;, &quot;detectRetina&quot;: false, &quot;maxNativeZoom&quot;: 24, &quot;maxZoom&quot;: 24, &quot;minZoom&quot;: 0, &quot;noWrap&quot;: false, &quot;opacity&quot;: 1.0, &quot;subdomains&quot;: &quot;abc&quot;, &quot;tms&quot;: false}\n",
       "            ).addTo(map_79d9ff63ee55208310c08960bfbb969a);\n",
       "        \n",
       "    \n",
       "            var tile_layer_ea6f0b97264599878f6f7dc235bf1083 = L.tileLayer(\n",
       "                &quot;https://earthengine-highvolume.googleapis.com/v1alpha/projects/earthengine-legacy/maps/9e1d2b5b28e940a8d5999795cb1a702e-e0fc4db49fb899c891da67df15da24b7/tiles/{z}/{x}/{y}&quot;,\n",
       "                {&quot;attribution&quot;: &quot;Google Earth Engine&quot;, &quot;detectRetina&quot;: false, &quot;maxNativeZoom&quot;: 24, &quot;maxZoom&quot;: 24, &quot;minZoom&quot;: 0, &quot;noWrap&quot;: false, &quot;opacity&quot;: 1.0, &quot;subdomains&quot;: &quot;abc&quot;, &quot;tms&quot;: false}\n",
       "            ).addTo(map_79d9ff63ee55208310c08960bfbb969a);\n",
       "        \n",
       "    \n",
       "            var tile_layer_216f2a812d4d84bbf305d1901b9c407f = L.tileLayer(\n",
       "                &quot;https://earthengine-highvolume.googleapis.com/v1alpha/projects/earthengine-legacy/maps/7a130a08b46acd81a622a1c4d0cdf0df-c474ae3219f88d146f90cfa8cdb52d88/tiles/{z}/{x}/{y}&quot;,\n",
       "                {&quot;attribution&quot;: &quot;Google Earth Engine&quot;, &quot;detectRetina&quot;: false, &quot;maxNativeZoom&quot;: 24, &quot;maxZoom&quot;: 24, &quot;minZoom&quot;: 0, &quot;noWrap&quot;: false, &quot;opacity&quot;: 1.0, &quot;subdomains&quot;: &quot;abc&quot;, &quot;tms&quot;: false}\n",
       "            ).addTo(map_79d9ff63ee55208310c08960bfbb969a);\n",
       "        \n",
       "    \n",
       "            var tile_layer_8b746fc269a20496a90b0651f20e4e2d = L.tileLayer(\n",
       "                &quot;https://earthengine-highvolume.googleapis.com/v1alpha/projects/earthengine-legacy/maps/dad124c9b58154e3eb11fd1e1b216482-a19741ce7e5c315758258281dcfbfa98/tiles/{z}/{x}/{y}&quot;,\n",
       "                {&quot;attribution&quot;: &quot;Google Earth Engine&quot;, &quot;detectRetina&quot;: false, &quot;maxNativeZoom&quot;: 24, &quot;maxZoom&quot;: 24, &quot;minZoom&quot;: 0, &quot;noWrap&quot;: false, &quot;opacity&quot;: 1.0, &quot;subdomains&quot;: &quot;abc&quot;, &quot;tms&quot;: false}\n",
       "            ).addTo(map_79d9ff63ee55208310c08960bfbb969a);\n",
       "        \n",
       "    \n",
       "            var tile_layer_4a55401d5d3b7d6b17ec1f2f2423af44 = L.tileLayer(\n",
       "                &quot;https://earthengine-highvolume.googleapis.com/v1alpha/projects/earthengine-legacy/maps/4975a28475d54e3012215318f060387e-2cd0bd7140786ac62969ad06ff797ac2/tiles/{z}/{x}/{y}&quot;,\n",
       "                {&quot;attribution&quot;: &quot;Google Earth Engine&quot;, &quot;detectRetina&quot;: false, &quot;maxNativeZoom&quot;: 24, &quot;maxZoom&quot;: 24, &quot;minZoom&quot;: 0, &quot;noWrap&quot;: false, &quot;opacity&quot;: 1.0, &quot;subdomains&quot;: &quot;abc&quot;, &quot;tms&quot;: false}\n",
       "            ).addTo(map_79d9ff63ee55208310c08960bfbb969a);\n",
       "        \n",
       "    \n",
       "            var tile_layer_b1729758eaddec0d012c1120f22360c7 = L.tileLayer(\n",
       "                &quot;https://earthengine-highvolume.googleapis.com/v1alpha/projects/earthengine-legacy/maps/e0ab07531d39bc26a16fbb52e62236ce-d0bebb2fc826e807d2f4e72d15f8eb20/tiles/{z}/{x}/{y}&quot;,\n",
       "                {&quot;attribution&quot;: &quot;Google Earth Engine&quot;, &quot;detectRetina&quot;: false, &quot;maxNativeZoom&quot;: 24, &quot;maxZoom&quot;: 24, &quot;minZoom&quot;: 0, &quot;noWrap&quot;: false, &quot;opacity&quot;: 1.0, &quot;subdomains&quot;: &quot;abc&quot;, &quot;tms&quot;: false}\n",
       "            ).addTo(map_79d9ff63ee55208310c08960bfbb969a);\n",
       "        \n",
       "    \n",
       "            var tile_layer_6b673622bcc6a3c0d853d7f8e5f244d9 = L.tileLayer(\n",
       "                &quot;https://earthengine-highvolume.googleapis.com/v1alpha/projects/earthengine-legacy/maps/d5e0217ef84a516516f154a50c1c569d-714b7631ad17e6e8ab03318a7fca6d2e/tiles/{z}/{x}/{y}&quot;,\n",
       "                {&quot;attribution&quot;: &quot;Google Earth Engine&quot;, &quot;detectRetina&quot;: false, &quot;maxNativeZoom&quot;: 24, &quot;maxZoom&quot;: 24, &quot;minZoom&quot;: 0, &quot;noWrap&quot;: false, &quot;opacity&quot;: 1.0, &quot;subdomains&quot;: &quot;abc&quot;, &quot;tms&quot;: false}\n",
       "            ).addTo(map_79d9ff63ee55208310c08960bfbb969a);\n",
       "        \n",
       "    \n",
       "            var tile_layer_47d9048c4234fe77cedff6f0603d8410 = L.tileLayer(\n",
       "                &quot;https://earthengine-highvolume.googleapis.com/v1alpha/projects/earthengine-legacy/maps/278c432030ca3c4e7b272b34a2a9a0fe-b6634098ae65a53d8079d76ef1c8a1af/tiles/{z}/{x}/{y}&quot;,\n",
       "                {&quot;attribution&quot;: &quot;Google Earth Engine&quot;, &quot;detectRetina&quot;: false, &quot;maxNativeZoom&quot;: 24, &quot;maxZoom&quot;: 24, &quot;minZoom&quot;: 0, &quot;noWrap&quot;: false, &quot;opacity&quot;: 1.0, &quot;subdomains&quot;: &quot;abc&quot;, &quot;tms&quot;: false}\n",
       "            ).addTo(map_79d9ff63ee55208310c08960bfbb969a);\n",
       "        \n",
       "    \n",
       "            var layer_control_3f7d5ff47c70f9f4d35a52e561cb9eb0 = {\n",
       "                base_layers : {\n",
       "                    &quot;openstreetmap&quot; : tile_layer_791155a3f926cfcf587e18d7e1a72edc,\n",
       "                },\n",
       "                overlays :  {\n",
       "                    &quot;Google Maps&quot; : tile_layer_1171b95df9d3bd3a30e43c8c5e850095,\n",
       "                    &quot;Image 20190109T101409_20190109T102253_T30NYM&quot; : tile_layer_354613b95d285fe2090196a5e9e0d16b,\n",
       "                    &quot;Cl mask 20190109T101409_20190109T102253_T30NYM&quot; : tile_layer_99068bb15e63b85f681e043abf184143,\n",
       "                    &quot;Image 20190122T102329_20190122T103839_T30NZM&quot; : tile_layer_d92560d371bc55b4c667c40cc6c2512b,\n",
       "                    &quot;Cl mask 20190122T102329_20190122T103839_T30NZM&quot; : tile_layer_ea6f0b97264599878f6f7dc235bf1083,\n",
       "                    &quot;Image 20190122T102329_20190122T103839_T30NYM&quot; : tile_layer_216f2a812d4d84bbf305d1901b9c407f,\n",
       "                    &quot;Cl mask 20190122T102329_20190122T103839_T30NYM&quot; : tile_layer_8b746fc269a20496a90b0651f20e4e2d,\n",
       "                    &quot;Image 20190129T101259_20190129T102648_T30NZM&quot; : tile_layer_4a55401d5d3b7d6b17ec1f2f2423af44,\n",
       "                    &quot;Cl mask 20190129T101259_20190129T102648_T30NZM&quot; : tile_layer_b1729758eaddec0d012c1120f22360c7,\n",
       "                    &quot;Medoid composite&quot; : tile_layer_6b673622bcc6a3c0d853d7f8e5f244d9,\n",
       "                    &quot;Region&quot; : tile_layer_47d9048c4234fe77cedff6f0603d8410,\n",
       "                },\n",
       "            };\n",
       "            L.control.layers(\n",
       "                layer_control_3f7d5ff47c70f9f4d35a52e561cb9eb0.base_layers,\n",
       "                layer_control_3f7d5ff47c70f9f4d35a52e561cb9eb0.overlays,\n",
       "                {&quot;autoZIndex&quot;: true, &quot;collapsed&quot;: true, &quot;position&quot;: &quot;topright&quot;}\n",
       "            ).addTo(map_79d9ff63ee55208310c08960bfbb969a);\n",
       "        \n",
       "&lt;/script&gt;\" style=\"position:absolute;width:100%;height:100%;left:0;top:0;border:none !important;\" allowfullscreen webkitallowfullscreen mozallowfullscreen></iframe></div></div>"
      ],
      "text/plain": [
       "<geemap.foliumap.Map at 0x19b5abf7fd0>"
      ]
     },
     "execution_count": 5,
     "metadata": {},
     "output_type": "execute_result"
    }
   ],
   "source": [
    "# geemap visualisation parameters\n",
    "s2_vis_params = dict(min=0, max=4000, bands=['B4', 'B3', 'B2'], gamma=1.5)\n",
    "mask_vis_params = dict(min=0, max=1)\n",
    "\n",
    "map = geemap.Map()\n",
    "map.centerObject(ee.Geometry(region), 11)\n",
    "\n",
    "# iterate over the first 4 component image ID's\n",
    "for im_id in list(filt_coll.properties.keys())[:4]:\n",
    "    # create image and mask, and add to map\n",
    "    im = gd.MaskedImage.from_id(im_id, prob=40, buffer=100)\n",
    "    vis_image = im.ee_image.clip(region)\n",
    "    cloudless_mask = vis_image.select('CLOUDLESS_MASK')\n",
    "    \n",
    "    map.addLayer(vis_image, s2_vis_params, f'Image {im_id[-38:]}')\n",
    "    map.addLayer(cloudless_mask, mask_vis_params, f'Cl mask {im_id[-38:]}')\n",
    "\n",
    "# add the composite to the map\n",
    "map.addLayer(\n",
    "    medoid_im.ee_image.clip(region), s2_vis_params, 'Medoid composite'\n",
    ")\n",
    "\n",
    "region_im = ee.Image().byte().paint(\n",
    "    featureCollection=ee.Geometry(region), width=2, color=1\n",
    ")\n",
    "map.addLayer(region_im, dict(palette=['FF0000']), 'Region')\n",
    "\n",
    "map"
   ]
  },
  {
   "cell_type": "markdown",
   "metadata": {},
   "source": [
    "### Download\n",
    "\n",
    "Here we download the composite image directly.  `crs`, `scale` and `region` parameters must be specified, as the composite has no fixed projection.  Computation of the *medoid* composite is memory intensive, so we specify a `max_tile_size` of 16MB.  Without this, the download would exceed the [user memory limit](../api.rst#computed-images-and-user-memory).  "
   ]
  },
  {
   "cell_type": "code",
   "execution_count": 6,
   "metadata": {},
   "outputs": [
    {
     "data": {
      "application/vnd.jupyter.widget-view+json": {
       "model_id": "4ac63dc479b94eea9559e47c60cc296e",
       "version_major": 2,
       "version_minor": 0
      },
      "text/plain": [
       "s2_medoid_im.tif: |                                                                                     | 0.00…"
      ]
     },
     "metadata": {},
     "output_type": "display_data"
    }
   ],
   "source": [
    "medoid_im.download(\n",
    "    's2_medoid_im.tif', region=region, crs='EPSG:32735', scale=10, \n",
    "    dtype='uint16', max_tile_size=16, overwrite=True,\n",
    ")\n",
    "\n",
    "# !geedim config --prob 40 --buffer 100 search -c s2-sr-hm -s 2019-01-01 -e 2020-01-01 --bbox -0.37 5.5 -0.0 5.75 -cf \"CLOUDY_PIXEL_PERCENTAGE<25\" -cp 75 -fp 30 composite -cm medoid download --crs EPSG:32735 --scale 10 --dtype uint16 --max-tile-size 16 -o"
   ]
  },
  {
   "cell_type": "markdown",
   "metadata": {},
   "source": [
    "### Export\n",
    "\n",
    "Lastly we demonstrate an alternative to the [direct download approach](#Download) i.e. we export the composite image to an Earth Engine asset, and then download the computed asset image.  Exporting is not subject to the user memory limit, and once computed, the asset image can be downloaded without the need for reducing `max_tile_size`.  Bear in mind that exporting is usually slower than downloading, and exported GeoTIFFs can not be populated with [STAC metadata](../api.rst#image-metadata). "
   ]
  },
  {
   "cell_type": "code",
   "execution_count": 8,
   "metadata": {},
   "outputs": [
    {
     "name": "stderr",
     "output_type": "stream",
     "text": [
      "Preparing projects-geedim-assets-s2_medoid_im: done \n"
     ]
    },
    {
     "data": {
      "application/vnd.jupyter.widget-view+json": {
       "model_id": "db025658692e453c9c1e9ba1b4719d2d",
       "version_major": 2,
       "version_minor": 0
      },
      "text/plain": [
       "Exporting projects-geedim-assets-s2_medoid_im: |                                                              …"
      ]
     },
     "metadata": {},
     "output_type": "display_data"
    },
    {
     "data": {
      "application/vnd.jupyter.widget-view+json": {
       "model_id": "034e3505be424e12b0a9cf46b5908d38",
       "version_major": 2,
       "version_minor": 0
      },
      "text/plain": [
       "s2_medoid_im.tif: |                                                                                     | 0.00…"
      ]
     },
     "metadata": {},
     "output_type": "display_data"
    },
    {
     "name": "stderr",
     "output_type": "stream",
     "text": [
      "There is no STAC entry for: projects/geedim/assets/s2_medoid_im\n"
     ]
    }
   ],
   "source": [
    "# 'geedim' = the name of a valid Earth Engine asset project\n",
    "medoid_asset_id = f'projects/geedim/assets/s2_medoid_im'\n",
    "\n",
    "# export to earth engine asset\n",
    "medoid_task = medoid_im.export(\n",
    "    medoid_asset_id, type='asset', region=region, crs='EPSG:32735', \n",
    "    scale=10, dtype='uint16', wait=True,\n",
    ")\n",
    "# !geedim config --prob 40 --buffer 100 search -c s2-sr-hm -s 2019-01-01 -e 2020-01-01 --bbox -0.37 5.5 -0.0 5.75 -cf \"CLOUDY_PIXEL_PERCENTAGE<25\" -cp 75 -fp 30 composite -cm medoid export -t asset -f geedim --crs EPSG:32735 --scale 10 --dtype uint16\n",
    "\n",
    "# create a MaskedImage from the earth engine asset\n",
    "medoid_asset_im = gd.MaskedImage.from_id(medoid_asset_id)\n",
    "# download asset image\n",
    "medoid_asset_im.download('s2_medoid_im.tif', overwrite=True)\n",
    "\n",
    "# !geedim download -i projects/geedim/assets/s2_medoid_im -o"
   ]
  },
  {
   "cell_type": "code",
   "execution_count": null,
   "metadata": {},
   "outputs": [],
   "source": []
  }
 ],
 "metadata": {
  "interpreter": {
   "hash": "a5cb0e16c618ce62d5962a2f34302e2d299d083ff8e8afee2c1c64a34662e4b4"
  },
  "kernelspec": {
   "display_name": "Python 3 (ipykernel)",
   "language": "python",
   "name": "python3"
  },
  "language_info": {
   "codemirror_mode": {
    "name": "ipython",
    "version": 3
   },
   "file_extension": ".py",
   "mimetype": "text/x-python",
   "name": "python",
   "nbconvert_exporter": "python",
   "pygments_lexer": "ipython3",
   "version": "3.9.15"
  },
  "widgets": {
   "application/vnd.jupyter.widget-state+json": {
    "state": {},
    "version_major": 2,
    "version_minor": 0
   }
  }
 },
 "nbformat": 4,
 "nbformat_minor": 4
}
